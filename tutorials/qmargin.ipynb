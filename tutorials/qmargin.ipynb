{
 "cells": [
  {
   "cell_type": "markdown",
   "id": "9a2ab56d-159e-41da-9454-fa0e25d74a73",
   "metadata": {},
   "source": [
    "## Understanding Generalization in Quantum Machine Learning with Margins"
   ]
  },
  {
   "cell_type": "markdown",
   "id": "6116a29c-6d2e-484a-952b-2315aec3b8c4",
   "metadata": {},
   "source": [
    "This is an introductory tutorial for the paper [Understanding Generalization in Quantum Machine Learning with Margins[1]](https://openreview.net/pdf?id=iQQ2zuWhFM). The full code can be found in [this Github repository](https://github.com/takh04/Q-margin).\n",
    "\n",
    "Due to the work done by [Caro et al.[2]](https://arxiv.org/abs/2111.05292), generalization in Quantum Machine Learning has been widely understood with the number of trainable parameters. However, [Gil-Fuster et al.[3]](https://arxiv.org/abs/2306.13461) pointed out that this generalization bound is an *uniform bound* and QML models can overfit the randomized labels. In such cases, it is well known that the generalization bounds become vacuous [4](https://arxiv.org/abs/1611.03530).\n",
    "\n",
    "In our paper, we introduce margin-based generalization bounds for QML models, inspired by [Bartlett et al.[5]](https://arxiv.org/pdf/1706.08498). \n",
    "#### Theorem \n",
    "*Consider an $n$-qubit QNNs consist of unitary $U \\in \\mathbb{U}_Q$ and POVMs $\\{E_i\\}_{i=1}^k$ for $k$-class classification. Let $b$ be a distance bound such that $\\|U - U_\\mathrm{ref}\\|_{2,1} \\leq b$ holds for any $U \\in \\mathbb{U}_Q$, with $U_\\mathrm{ref}$ serving as the reference unitary matrix. Then, for any $\\delta > 0$ and $\\gamma > 0$, with probability at least $1 - \\delta$ over the random draw of an i.i.d. sample $S$ of size $m$, the following inequality holds for all $h \\in \\mathcal{H}$:*\n",
    "$$\n",
    "        R(h) \\leq \\hat{R}_\\gamma(h) + \\tilde{O}\\left(\\frac{b}{\\gamma} \\sqrt{\\frac{n}{m}\\sum_{i=1}^k\\|E_i\\|^2_\\sigma} + \\sqrt{\\frac{\\ln(1/\\delta)}{m}}\\right). \n",
    "$$\n",
    "\n",
    "In this introductory tutorial, we will reproduce the randomized label experiments done by [Gil-Fuster et al.[3]](https://arxiv.org/abs/2306.13461), which showed that number of parameters is a vacouous measure of the generalization. However, we will look at the margin distribution and demonstrate that margin, unlike the number of parameters, can capture the generalization behaviour of QML models under randomized labels.\n",
    "\n",
    "This tutorial was tested under following environments:\n",
    "```\n",
    "python=3.10\n",
    "pennylane==0.40.0\n",
    "torch==2.7.1\n",
    "tensorflow==2.19.0\n",
    "scikit-learn==1.7.0\n",
    "matplotlib==3.10.3\n",
    "```"
   ]
  },
  {
   "cell_type": "markdown",
   "id": "08d4634b-ed03-4fc0-ac44-4090fff2e30a",
   "metadata": {},
   "source": [
    "### 0. Data Generation"
   ]
  },
  {
   "cell_type": "markdown",
   "id": "1f2294be-9115-4976-b839-5a9be94f27e3",
   "metadata": {},
   "source": [
    "We will train various QML models for Quantum Phase Recognition (QPR) problem. First, we will generate the ground states of generalized cluster Hamiltonian. Note, this is a four class classification tasks, with equal probability among each classes."
   ]
  },
  {
   "cell_type": "code",
   "execution_count": 1,
   "id": "09664ba1-f241-4e5d-a84a-7abef3a6580d",
   "metadata": {},
   "outputs": [],
   "source": [
    "import pennylane as qml\n",
    "import numpy as np\n",
    "import os\n",
    "import torch\n",
    "\n",
    "np.random.seed(42)\n",
    "torch.manual_seed(42)\n",
    "# Generalized Cluster Hamiltonian\n",
    "def H(j1, j2, N):\n",
    "    coeffs, ops = [], []\n",
    "    for n in range(N):\n",
    "        ops.append(qml.PauliZ(n))\n",
    "        coeffs.append(1)\n",
    "    for n in range(N - 1):\n",
    "        ops.append(qml.PauliX(n) @ qml.PauliX(n+1))\n",
    "        coeffs.append(-j1)\n",
    "    for n in range(N - 2):\n",
    "        ops.append(qml.PauliX(n) @ qml.PauliZ(n+1) @qml.PauliX(n+2))\n",
    "        coeffs.append(-j2)\n",
    "    H = qml.Hamiltonian(coeffs, ops)\n",
    "    return qml.matrix(H)\n",
    "\n",
    "def gs(j1, j2, N):\n",
    "    eigvals, eigvecs = np.linalg.eigh(H(j1, j2, N))\n",
    "    return eigvecs[:,0]\n",
    "\n",
    "def labels(j1, j2):\n",
    "    if (j2 <= j1 - 1) and (j2 <= -j1 -1):\n",
    "        y = 0\n",
    "        pass_rate = 4 / 29\n",
    "    elif (j2 > -j1 - 1) and (j2 <= j1 - 1):\n",
    "        y = 1\n",
    "        pass_rate = 4 / 15.5\n",
    "    elif (j2 > j1 - 1) and (j2 <= -j1 -1):\n",
    "        y = 2\n",
    "        pass_rate = 4 / 15.5\n",
    "    elif (j2 > j1 - 1) and (j2 > -j1 -1):\n",
    "        if j2 >= 1:\n",
    "            y = 0\n",
    "            pass_rate = 4 / 29\n",
    "        else:\n",
    "            y = 3\n",
    "            pass_rate = 1\n",
    "    return y, pass_rate\n",
    "\n",
    "        \n",
    "\n",
    "def gen_data(num_qubits, num_samples, test):\n",
    "    j1j2_list = []\n",
    "    gs_list = []\n",
    "    y_list = []\n",
    "\n",
    "    if test:\n",
    "        directory = f'data/test/'\n",
    "    else:\n",
    "        directory = f'data/train/'\n",
    "        \n",
    "    if not os.path.exists(directory):\n",
    "        os.makedirs(directory)\n",
    "\n",
    "    sample_count = 0\n",
    "    while sample_count < num_samples:\n",
    "        j1, j2 = 8 * (np.random.random() - 0.5), 8 * (np.random.random() - 0.5)\n",
    "        y, pass_rate = labels(j1, j2)\n",
    "        \n",
    "        rand = np.random.random()\n",
    "        if rand < pass_rate:\n",
    "            ground_state = gs(j1, j2, num_qubits)\n",
    "            j1j2_list.append([j1, j2])\n",
    "            gs_list.append(ground_state)\n",
    "            y_list.append(y)\n",
    "            sample_count += 1\n",
    "    \n",
    "    with open(os.path.join(directory, 'gs_j1j2.txt'), 'w') as f:\n",
    "        f.write(str(j1j2_list))\n",
    "    \n",
    "    gs_list = np.array(gs_list)\n",
    "    np.save(os.path.join(directory, 'gs.npy'), gs_list)\n",
    "\n",
    "    y_list = np.array(y_list)\n",
    "    np.save(os.path.join(directory, 'label_r=0.0.npy'), y_list)\n",
    "    \n",
    "    for noise_level in [0.5, 1.0]:\n",
    "        label_file = os.path.join(directory, f'label_r={noise_level}.npy')\n",
    "        if not os.path.exists(label_file):\n",
    "            noisy_labels = y_list.copy()\n",
    "            random_indices = np.random.choice(num_samples, int(noise_level * num_samples), replace=False)\n",
    "            noisy_labels[random_indices] = np.random.randint(0, 4, size=len(random_indices))\n",
    "            np.save(label_file, noisy_labels)\n",
    "        "
   ]
  },
  {
   "cell_type": "markdown",
   "id": "b5df002e-6765-48c5-ada9-fe13cfbad85b",
   "metadata": {},
   "source": [
    "Generate 20 training samples of four-qubit ground states for generalized cluster hamiltonians."
   ]
  },
  {
   "cell_type": "code",
   "execution_count": 2,
   "id": "d140ec62-d7e6-4ec6-8efa-d9c88470d583",
   "metadata": {},
   "outputs": [],
   "source": [
    "num_qubits = 4\n",
    "num_samples = 20\n",
    "gen_data(num_qubits, num_samples, False)"
   ]
  },
  {
   "cell_type": "markdown",
   "id": "d0eafd19-fdc2-4bb3-9dec-f7fc5455b339",
   "metadata": {},
   "source": [
    "Generate 1000 test samples to evaluate the generalization performances."
   ]
  },
  {
   "cell_type": "code",
   "execution_count": 3,
   "id": "c5722ad2-e335-49fa-ae31-7f957d55deaa",
   "metadata": {},
   "outputs": [],
   "source": [
    "num_samples = 1000\n",
    "gen_data(num_qubits, num_samples, True)"
   ]
  },
  {
   "cell_type": "markdown",
   "id": "cc9edccc-b8ec-4035-b363-49f4cf094979",
   "metadata": {},
   "source": [
    "### 1. Define the Model"
   ]
  },
  {
   "cell_type": "markdown",
   "id": "abf34c9d-f9de-41a4-be15-a82fead95d3b",
   "metadata": {},
   "source": [
    "Now we will define four-qubit Quantum Convolutional Neural Networks."
   ]
  },
  {
   "cell_type": "code",
   "execution_count": 4,
   "id": "3bea5b79-1e47-4e08-a67d-7c41be37f4a9",
   "metadata": {},
   "outputs": [],
   "source": [
    "def construct_model(n_qubits, n_layers):\n",
    "    # SU4 Ansatz\n",
    "    def U_SU4(params, wires): # 15 params\n",
    "        qml.U3(params[0], params[1], params[2], wires=wires[0])\n",
    "        qml.U3(params[3], params[4], params[5], wires=wires[1])\n",
    "        qml.CNOT(wires=[wires[0], wires[1]])\n",
    "        qml.RY(params[6], wires=wires[0])\n",
    "        qml.RZ(params[7], wires=wires[1])\n",
    "        qml.CNOT(wires=[wires[1], wires[0]])\n",
    "        qml.RY(params[8], wires=wires[0])\n",
    "        qml.CNOT(wires=[wires[0], wires[1]])\n",
    "        qml.U3(params[9], params[10], params[11], wires=wires[0])\n",
    "        qml.U3(params[12], params[13], params[14], wires=wires[1])\n",
    "    \n",
    "    # QCNN structure\n",
    "    def QCNN4_shared(params, num_layers):\n",
    "    # 15 * (num_layers + 1) params\n",
    "        for i in range(num_layers):\n",
    "            U_SU4(params[15 * i : 15 * (i + 1)], wires=[0,1])\n",
    "            U_SU4(params[15 * i : 15 * (i + 1)], wires=[2,3])\n",
    "    \n",
    "            U_SU4(params[15 * i : 15 * (i + 1)], wires=[3,0])\n",
    "            U_SU4(params[15 * i : 15 * (i + 1)], wires=[1,2])\n",
    "        \n",
    "        U_SU4(params[15 * num_layers : 15 * (num_layers + 1)], wires=[2,0])\n",
    "        \n",
    "    dev = qml.device(\"default.qubit\", wires=n_qubits)\n",
    "    @qml.qnode(dev)\n",
    "    def circuit(inputs, params):\n",
    "        qml.AmplitudeEmbedding(inputs, wires=range(n_qubits))\n",
    "        QCNN4_shared(params, n_layers)\n",
    "        return qml.probs(wires=[0,2])\n",
    "    \n",
    "    weight_shapes = {\"params\": (15 * (n_layers + 1))}\n",
    "\n",
    "    class model(torch.nn.Module):\n",
    "        def __init__(self):\n",
    "            super().__init__()\n",
    "            self.qlayer = qml.qnn.TorchLayer(circuit, weight_shapes=weight_shapes)\n",
    "        def forward(self, x):\n",
    "            return self.qlayer(x)\n",
    "    model = model()\n",
    "    return model"
   ]
  },
  {
   "cell_type": "markdown",
   "id": "85c8a4e0-0aff-4aa9-a522-ab62aa81d5ee",
   "metadata": {},
   "source": [
    "### 2. Train and Evaluate the Model"
   ]
  },
  {
   "cell_type": "markdown",
   "id": "4155f78f-d736-4893-a407-c2c9bd15d4fa",
   "metadata": {},
   "source": [
    "We train the model for 1000 iterations with learning rate 0.05 using Cross Entropy Loss. After the training we compute the margin distribution and save the margin boxplots, containing the minimum, lower quantile, median, upper quantile, and maximum values of the margin distribution. Then, test accuracy is computed."
   ]
  },
  {
   "cell_type": "code",
   "execution_count": 5,
   "id": "f37aa72f-dde6-471f-a40e-47421929f474",
   "metadata": {},
   "outputs": [],
   "source": [
    "# Model Training Utility\n",
    "def train_and_eval(model, X, y, X_test, y_test):\n",
    "    model.train()\n",
    "    loss_fn = torch.nn.CrossEntropyLoss()\n",
    "    opt = torch.optim.Adam(model.parameters(), lr=0.05)\n",
    "    X_batch = torch.tensor(X, dtype=torch.float32)\n",
    "    y_batch = torch.tensor(y, dtype=torch.long)\n",
    "    \n",
    "    for step in range(1000):\n",
    "        pred = model(X_batch)\n",
    "        loss = loss_fn(pred, y_batch)\n",
    "        opt.zero_grad()\n",
    "        loss.backward()\n",
    "        opt.step()\n",
    "\n",
    "    model.eval()\n",
    "    # Compute Margin Distribution\n",
    "    margin_dists = []\n",
    "    y_tensor = torch.from_numpy(y).to(torch.long)\n",
    "    probs = model(torch.from_numpy(X).to(torch.float32))\n",
    "    preds = torch.argmax(probs, dim=1)\n",
    "    correct_label_probs = probs.gather(1, y_tensor.to(torch.long).view(-1, 1)).squeeze(1)\n",
    "    incorrect_label_probs, _ = torch.max(probs.masked_fill(torch.eye(probs.size(1))[y_tensor].bool(), float('-inf')), dim=1)\n",
    "    margin_dist = correct_label_probs - incorrect_label_probs\n",
    "    margin_mean = margin_dist.mean().item()\n",
    "    # Zero out margins for incorrect predictions\n",
    "    margin_dist = torch.where(preds == y_tensor, margin_dist, torch.zeros_like(margin_dist))\n",
    "    margin_dists.append(margin_dist)\n",
    "\n",
    "    # Concatenate all margins\n",
    "    margin_dist = torch.cat(margin_dists, dim=0)\n",
    "\n",
    "    # Calculate margin statistics\n",
    "    margin_min = margin_dist.min().item()\n",
    "    margin_Q1 = torch.quantile(margin_dist, 0.25).item()\n",
    "    margin_Q2 = torch.quantile(margin_dist, 0.50).item()\n",
    "    margin_Q3 = torch.quantile(margin_dist, 0.75).item()\n",
    "    margin_max = margin_dist.max().item()\n",
    "    margin_boxplot = np.array([margin_min, margin_Q1, margin_Q2, margin_Q3, margin_max])\n",
    "\n",
    "    # Compute Test Accuracy\n",
    "    correct_predictions = 0\n",
    "    probs_test = model(torch.from_numpy(X_test).to(torch.float32))\n",
    "    preds_test = torch.argmax(probs_test, dim=1)\n",
    "    correct_predictions += (preds_test == y_test).sum().item()\n",
    "    accuracy = correct_predictions / len(y_test)\n",
    "    return margin_boxplot, accuracy"
   ]
  },
  {
   "cell_type": "markdown",
   "id": "b215e223-8f54-49c9-a618-f2f73a435c5c",
   "metadata": {},
   "source": [
    "We train three QCNNs with one, three, and five layers. We train three models for pure label ($r=0.0$), half-randomized label ($r=0.5$), and fully-randomized label ($r=1.0$)."
   ]
  },
  {
   "cell_type": "code",
   "execution_count": 6,
   "id": "3bd6ff34-c55d-4530-9b5f-f5d4963310e5",
   "metadata": {},
   "outputs": [
    {
     "name": "stdout",
     "output_type": "stream",
     "text": [
      "--- Starting Training and Data Collection ---\n",
      "Processing noise level r = 0.0\n"
     ]
    },
    {
     "name": "stderr",
     "output_type": "stream",
     "text": [
      "/var/folders/s2/t3n82l2s329dh9dttmtv7vr00000gn/T/ipykernel_20963/2306987488.py:6: UserWarning: Casting complex values to real discards the imaginary part (Triggered internally at /Users/runner/work/pytorch/pytorch/pytorch/aten/src/ATen/native/Copy.cpp:307.)\n",
      "  X_batch = torch.tensor(X, dtype=torch.float32)\n"
     ]
    },
    {
     "name": "stdout",
     "output_type": "stream",
     "text": [
      "Processing noise level r = 0.5\n",
      "Processing noise level r = 1.0\n",
      "\n",
      "--- Data Collection Complete ---\n"
     ]
    }
   ],
   "source": [
    "# Experiment parametersr \n",
    "model_layers_list = [1, 3, 5]\n",
    "r_list = [0.0, 0.5, 1.0]\n",
    "\n",
    "# 1. Initialize a dictionary to store all your results\n",
    "results = {r: {'margins': [], 'accuracies': []} for r in r_list}\n",
    "\n",
    "# 2. Loop by 'r' first, then by model, to group data logically for plotting\n",
    "print(\"--- Starting Training and Data Collection ---\")\n",
    "for r in r_list:\n",
    "    print(f\"Processing noise level r = {r}\")\n",
    "    \n",
    "    # Load data that depends on 'r' once per outer loop\n",
    "    y = np.load(f'data/train/label_r={r}.npy')\n",
    "    y_test = np.load(f'data/test/label_r={r}.npy')\n",
    "    \n",
    "    for num_layers in model_layers_list:\n",
    "        # Construct the model\n",
    "        model = construct_model(4, num_layers)\n",
    "\n",
    "        # Load data (using dummy data for this example)\n",
    "        X = np.load('data/train/gs.npy')\n",
    "        X_test = np.load('data/test/gs.npy')\n",
    "\n",
    "        # Train and get results\n",
    "        margin_boxplot, accuracy = train_and_eval(model, X, y, X_test, y_test)\n",
    "        \n",
    "        # 3. Save the results in the dictionary\n",
    "        results[r]['margins'].append(margin_boxplot)\n",
    "        results[r]['accuracies'].append(accuracy)\n",
    "\n",
    "print(\"\\n--- Data Collection Complete ---\")"
   ]
  },
  {
   "cell_type": "markdown",
   "id": "7ddaff0a-6cb9-4d08-9484-970b3065462f",
   "metadata": {},
   "source": [
    "### 4. Visualize the Results"
   ]
  },
  {
   "cell_type": "code",
   "execution_count": 7,
   "id": "d8f50db8-a5a2-4b13-9f91-54df0a37aef0",
   "metadata": {},
   "outputs": [
    {
     "data": {
      "image/png": "[encoded data removed]",
      "text/plain": [
       "<Figure size 1500x500 with 3 Axes>"
      ]
     },
     "metadata": {},
     "output_type": "display_data"
    }
   ],
   "source": [
    "import matplotlib.pyplot as plt\n",
    "\n",
    "def plot_results(results_dict):\n",
    "    \"\"\"Generates a box plot from the stored results dictionary.\"\"\"\n",
    "    \n",
    "    model_layers_list = [1, 3, 5] # Must match the order used during training\n",
    "    r_list = list(results_dict.keys())\n",
    "\n",
    "    # Create figure and axes\n",
    "    fig, axes = plt.subplots(1, 3, figsize=(15, 5), sharey=True)\n",
    "    plt.rcParams.update({'font.size': 12})\n",
    "    \n",
    "    # Define plot styles\n",
    "    colors = [\"lightyellow\", \"lightgreen\", \"lightblue\"] # Colors for 1, 3, 5 layers\n",
    "    positions = [2, 1, 0] # Positions for 5, 3, 1 layers (top to bottom)\n",
    "\n",
    "    # Loop through each noise level to create a subplot\n",
    "    for ax, r in zip(axes, r_list):\n",
    "        # 1. Retrieve the pre-calculated data for this 'r'\n",
    "        margin_data = results_dict[r]['margins']\n",
    "        accuracy_data = results_dict[r]['accuracies']\n",
    "\n",
    "        # 2. Reverse data to plot layers [5, 3, 1] at positions [2, 1, 0]\n",
    "        reversed_margins = margin_data[::-1]\n",
    "        reversed_accuracies = accuracy_data[::-1]\n",
    "        reversed_layers = model_layers_list[::-1]\n",
    "        \n",
    "        box_patches = []\n",
    "        for i in range(len(reversed_margins)):\n",
    "            bp = ax.boxplot(\n",
    "                reversed_margins[i],\n",
    "                positions=[positions[i]],\n",
    "                widths=0.6,\n",
    "                vert=False,\n",
    "                patch_artist=True,\n",
    "                showfliers=False,\n",
    "                boxprops=dict(facecolor=colors[i]),\n",
    "                medianprops=dict(color='black')\n",
    "            )\n",
    "            box_patches.append(bp[\"boxes\"][0])\n",
    "        \n",
    "        # 3. Configure the subplot\n",
    "        ax.set_xlim(-0.1, 1.1)\n",
    "        ax.set_yticks(positions, [f\"{l}L\" for l in reversed_layers])\n",
    "        ax.set_title(f\"Noise {int(r*100)}%\")\n",
    "        \n",
    "        # 4. Create legend from accuracy data\n",
    "        legend_labels = [f'{acc:.2f}' for acc in reversed_accuracies]\n",
    "        ax.legend(box_patches, legend_labels, loc='upper right', title=\"Test Accuracy\")\n",
    "\n",
    "    # Final figure adjustments\n",
    "    axes[0].set_ylabel(\"Number of Layers\")\n",
    "    axes[1].set_xlabel(\"Margin Distribution\")\n",
    "\n",
    "    plt.tight_layout()\n",
    "    plt.savefig(\"final_margin_boxplot.pdf\")\n",
    "    plt.show()\n",
    "\n",
    "# --- Call the plotting function with your collected data ---\n",
    "plot_results(results)"
   ]
  },
  {
   "cell_type": "markdown",
   "id": "d8c93c17-f2f5-43bf-a95d-ae0779921d69",
   "metadata": {},
   "source": [
    "As expected, the test accuracies decrease as the label noise increases. Concurrently, we also see that margin distribution shifting to the left. This leftward shift leads to larger upper bound in margin-based generalization bounds. Hence, our margin generalization bounds correctly captures the generalization behaviours under label corruption for QML models!\n",
    "\n",
    "In our [full paper[1]](https://arxiv.org/abs/2411.06919), we investigate larger qubit systems with additional datasets. We also directly compare number of parameters and margins as a measure of generalization performance using mutual information and Kendall's rank correlation. Finally, we connect a concept of margin with quantum state discrimination problems, and suggest a quantum embedding methods for better generalization performance. "
   ]
  },
  {
   "cell_type": "markdown",
   "id": "3d449f75-02ae-405c-94bd-50ab5ad55cda",
   "metadata": {},
   "source": [
    "### References\n",
    "\n",
    "1. Tak Hur, Daniel K. Park. *Understanding Generalization in Quantum Machine Learning with Margins*. ICML (2025).\n",
    "\n",
    "2. Matthias C. Caro, Hsin-Yuan Huang. *Generalization in quantum machine learning from few training data*. Nature Communications (2022).\n",
    "\n",
    "3. Elies Gil-Fuster, Jens Eisert, Carlos Bravo-Prieto. *Understanding quantum machine learning also requires rethinking generalization*. Nature Communications (2024).\n",
    "\n",
    "4. Peter Bartlett, Dylan J. Foster, Matus Telgarsky. *Spectrally-normalized margin bounds for neural networks* Neurips (2017)."
   ]
  },
  {
   "cell_type": "markdown",
   "id": "83926a71-0277-4105-8a7e-c1b6dafc7dcf",
   "metadata": {},
   "source": [
    "### Citation\n",
    "\n",
    "If you use this code in your research, please cite our paper:\n",
    "```\n",
    "@article{hur2024understanding,\n",
    "  title={Understanding Generalization in Quantum Machine Learning with Margins},\n",
    "  author={Hur, Tak and Park, Daniel K},\n",
    "  journal={arXiv preprint arXiv:2411.06919},\n",
    "  year={2024}\n",
    "}\n",
    "```"
   ]
  }
 ],
 "metadata": {
  "kernelspec": {
   "display_name": "Python 3 (ipykernel)",
   "language": "python",
   "name": "python3"
  },
  "language_info": {
   "codemirror_mode": {
    "name": "ipython",
    "version": 3
   },
   "file_extension": ".py",
   "mimetype": "text/x-python",
   "name": "python",
   "nbconvert_exporter": "python",
   "pygments_lexer": "ipython3",
   "version": "3.10.0"
  }
 },
 "nbformat": 4,
 "nbformat_minor": 5
}
