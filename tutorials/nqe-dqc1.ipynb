{
 "cells": [
  {
   "cell_type": "markdown",
   "id": "daa9cc40-2bd0-4360-a118-a877275d3c0f",
   "metadata": {},
   "source": [
    "## Neural Quantum Embedding via DQC1"
   ]
  },
  {
   "cell_type": "markdown",
   "id": "19ddd8c4-af8e-4b37-8ac6-b310a0478671",
   "metadata": {},
   "source": [
    "This tutorial demonstrates the implementation of neural quantum embedding (NQE) using deterministic quantum computation with one clean qubit (DQC1). More experimental results for NQE-DQC1, including real-hardware experiments on NMR device, can be found in [this paper[1]](https://arxiv.org/abs/2501.15359). If you want to know more about NQE read the [original paper](https://arxiv.org/abs/2311.11412[2]) or follow the [introductory tutorial](https://takh04.github.io/nqe.html). If you need more information about DQC1 protocal, have a look at this [introduction](https://en.wikipedia.org/wiki/One_clean_qubit). \n",
    "\n",
    "This tutorial was tested under following environments:\n",
    "```\n",
    "python=3.10\n",
    "pennylane==0.27.0\n",
    "torch==2.7.1\n",
    "tensorflow==2.19.0\n",
    "scikit-learn==1.7.0\n",
    "seaborn==0.13.2\n",
    "```"
   ]
  },
  {
   "cell_type": "markdown",
   "id": "276f7016-6afe-4024-8b66-3d69dae218d4",
   "metadata": {},
   "source": [
    "## 0. Introduction\n",
    "\n",
    "NQE tries to find the optimal quantum embedding that maximizes the trace distance between classes. To do this, NQE protocol minimizes a implicit loss function motivated by fidelity overlap between two quantum states, \n",
    "$$d_{\\mathrm{fid}}(x_i, x_j) = \\mathrm{Tr}\\left(\\rho(x_i)^\\dagger \\rho(x_j)\\right)$$, \n",
    "where $\\rho(x) = U(x)\\vert 0 \\rangle^{\\otimes n}$ for some quantum embedding function $U$.\n",
    "\n",
    "Instead of directly using the fidelity, we can consider using a distance between two quantum embeddings, \n",
    "$$ d_{\\mathrm{HS}}(x_i, x_j) = \\frac{1}{2^n}\\mathrm{Tr}\\left(U^\\dagger(x_i) U(x_j)\\right).$$\n",
    "This is also known as a Hilbert-Schmidt distance.\n",
    "\n",
    "Deterministic quantum computation with one clean qubit (DQC1), despite being a subuniversal quantum computation, can compute interesting quantities that classical computers can not. One of them is computing the trace of an exponentially large unitary matrix, and we will use it to compute the Hilbert-Schmidt distance between quantum embeddings."
   ]
  },
  {
   "cell_type": "markdown",
   "id": "c1396d27-2a7a-4888-af03-00e0a3bef1c0",
   "metadata": {},
   "source": [
    "<div style=\"text-align: center;\">\n",
    "  <img src=\"nqe-dqc1.png\" style=\"height:500px\">\n",
    "</div>"
   ]
  },
  {
   "cell_type": "markdown",
   "id": "aea08ca2-7b0b-47dc-ae41-c22518320643",
   "metadata": {},
   "source": [
    "All the contents of NQE-DQC1 demo is almost exactly same as the original [NQE demo](https://takh04.github.io/nqe.html). The only difference is we use Hilbert-Schmidt distance between quantum embeddings, instead of quantum state overlap. So I will skip details."
   ]
  },
  {
   "cell_type": "markdown",
   "id": "cb8c713d-29ae-4401-a8da-569aa041e8b6",
   "metadata": {},
   "source": [
    "### Data loading and preprocessing"
   ]
  },
  {
   "cell_type": "code",
   "execution_count": 1,
   "id": "94b5bf41-f610-4226-b171-f9bb2f87be74",
   "metadata": {},
   "outputs": [
    {
     "name": "stderr",
     "output_type": "stream",
     "text": [
      "/Users/tak/anaconda3/envs/new/lib/python3.10/site-packages/requests/__init__.py:86: RequestsDependencyWarning: Unable to find acceptable character detection dependency (chardet or charset_normalizer).\n",
      "  warnings.warn(\n"
     ]
    }
   ],
   "source": [
    "import pennylane as qml\n",
    "from pennylane import numpy as np\n",
    "import torch\n",
    "from torch import nn\n",
    "from sklearn.decomposition import PCA\n",
    "import tensorflow as tf\n",
    "\n",
    "np.random.seed(42)\n",
    "torch.manual_seed(42)\n",
    "def data_load_and_process():\n",
    "    (x_train, y_train), (x_test, y_test) = tf.keras.datasets.mnist.load_data()\n",
    "    x_train, x_test = x_train[..., np.newaxis] / 255.0, x_test[..., np.newaxis] / 255.0\n",
    "    train_filter_tf = np.where((y_train == 0 ) | (y_train == 1 ))\n",
    "    test_filter_tf = np.where((y_test == 0 ) | (y_test == 1 ))\n",
    " \n",
    "    x_train, y_train = x_train[train_filter_tf], y_train[train_filter_tf]\n",
    "    x_test, y_test = x_test[test_filter_tf], y_test[test_filter_tf]\n",
    "\n",
    "    x_train = tf.image.resize(x_train[:], (256, 1)).numpy()\n",
    "    x_test = tf.image.resize(x_test[:], (256, 1)).numpy()\n",
    "    x_train, x_test = tf.squeeze(x_train).numpy(), tf.squeeze(x_test).numpy()\n",
    "        \n",
    "    X_train = PCA(4).fit_transform(x_train)\n",
    "    X_test = PCA(4).fit_transform(x_test)\n",
    "    x_train, x_test = [], []\n",
    "    for x in X_train:\n",
    "        x = (x - x.min()) * (np.pi / (x.max() - x.min()))\n",
    "        x_train.append(x)\n",
    "    for x in X_test:\n",
    "        x = (x - x.min()) * (np.pi / (x.max() - x.min()))\n",
    "        x_test.append(x)\n",
    "    return x_train, x_test, y_train, y_test\n",
    "\n",
    "#load data\n",
    "X_train, X_test, Y_train, Y_test = data_load_and_process()\n",
    "X_train, X_test, Y_train, Y_test = X_train[0:400], X_test[0:100], Y_train[0:400], Y_test[0:100]"
   ]
  },
  {
   "cell_type": "markdown",
   "id": "f43f890c-dc34-4980-a0db-797463237969",
   "metadata": {},
   "source": [
    "### Define Quantum Embedding and NQE-DQC1"
   ]
  },
  {
   "cell_type": "markdown",
   "id": "8622f861-baf5-4930-93c9-a7c82cc4fd31",
   "metadata": {},
   "source": [
    "Define IQP type Quantum Embedding (ZZ Feature Map)."
   ]
  },
  {
   "cell_type": "code",
   "execution_count": 2,
   "id": "577a3aa6-c85e-480d-b959-0e0501b8ea3a",
   "metadata": {},
   "outputs": [],
   "source": [
    "N_layers = 3\n",
    "# exp(ixZ) gate\n",
    "def exp_Z(x, wires):\n",
    "    qml.RZ(-2 * x, wires=wires)\n",
    "\n",
    "# exp(i(pi - x1)(pi - x2)ZZ) gate\n",
    "def exp_ZZ(x1, x2, wires):\n",
    "    qml.CNOT(wires=wires)\n",
    "    qml.RZ(-2 * (np.pi - x1) * (np.pi - x2), wires=wires[1])\n",
    "    qml.CNOT(wires=wires)\n",
    "\n",
    "def QuantumEmbedding(input):\n",
    "    for i in range(N_layers):\n",
    "        for j in range(4):\n",
    "            qml.Hadamard(wires=j)\n",
    "            exp_Z(input[j], wires=j)\n",
    "        for k in range(3):\n",
    "            exp_ZZ(input[k], input[k+1], wires=[k,k+1])\n",
    "        exp_ZZ(input[3], input[0], wires=[3, 0])"
   ]
  },
  {
   "cell_type": "markdown",
   "id": "8b4c3d97-9b0e-43e8-96d1-cb153aad34a3",
   "metadata": {},
   "source": [
    "Define NQE-DQC1."
   ]
  },
  {
   "cell_type": "code",
   "execution_count": 3,
   "id": "dd4fb18c-de13-4127-8706-544b4d6a0ce8",
   "metadata": {},
   "outputs": [],
   "source": [
    "dev = qml.device('default.qubit', wires=4)\n",
    "@qml.qnode(dev, interface=\"torch\")\n",
    "def circuit(inputs): \n",
    "    QuantumEmbedding(inputs[0:4])\n",
    "    qml.adjoint(QuantumEmbedding)(inputs[4:8])\n",
    "    return qml.probs(wires=range(4))\n",
    "\n",
    "class Model_HS(torch.nn.Module):\n",
    "    def __init__(self):\n",
    "        super().__init__()\n",
    "        self.qlayer1 = qml.qnn.TorchLayer(circuit, weight_shapes={})\n",
    "        self.linear_relu_stack1 = nn.Sequential(\n",
    "            nn.Linear(4, 8),\n",
    "            nn.ReLU(),\n",
    "            nn.Linear(8,8),\n",
    "            nn.ReLU(),\n",
    "            nn.Linear(8,4)\n",
    "        )\n",
    "        self.matrix_fn = qml.matrix(circuit)\n",
    "\n",
    "    def forward(self, x1, x2):\n",
    "        x1 = self.linear_relu_stack1(x1)\n",
    "        x2 = self.linear_relu_stack1(x2)\n",
    "        x = torch.concat([x1, x2], 1)\n",
    "        x = [torch.real(torch.trace(self.matrix_fn(a))) for a in x]\n",
    "        x = torch.stack(x, dim = 0)\n",
    "        return x / 2**4"
   ]
  },
  {
   "cell_type": "markdown",
   "id": "a563a586-dda5-4f49-a730-1c08ca3b0042",
   "metadata": {},
   "source": [
    "The only modification from the original demo is this line of code.\n",
    "```\n",
    "x = [torch.real(torch.trace(self.matrix_fn1(a))) for a in x]\n",
    "```\n",
    "Unlike the original demo, we are computing trace of an unitary, which measures the Hilbert-Schmidt distance."
   ]
  },
  {
   "cell_type": "markdown",
   "id": "3810dc92-78da-41b2-9310-497e16609960",
   "metadata": {},
   "source": [
    "### Optimize NQE"
   ]
  },
  {
   "cell_type": "code",
   "execution_count": 4,
   "id": "a3945e48-73d8-4e2f-a11c-078c5357694a",
   "metadata": {},
   "outputs": [
    {
     "name": "stderr",
     "output_type": "stream",
     "text": [
      "/var/folders/s2/t3n82l2s329dh9dttmtv7vr00000gn/T/ipykernel_22387/3446470592.py:16: UserWarning: Creating a tensor from a list of numpy.ndarrays is extremely slow. Please consider converting the list to a single numpy.ndarray with numpy.array() before converting to a tensor. (Triggered internally at /Users/runner/work/pytorch/pytorch/pytorch/torch/csrc/utils/tensor_new.cpp:257.)\n",
      "  X1_new, X2_new, Y_new = torch.tensor(X1_new).to(torch.float32), torch.tensor(X2_new).to(torch.float32), torch.tensor(Y_new).to(torch.float32)\n"
     ]
    },
    {
     "name": "stdout",
     "output_type": "stream",
     "text": [
      "Iterations: 0 Loss: 0.17514556646347046\n",
      "Iterations: 50 Loss: 0.06814505159854889\n",
      "Iterations: 100 Loss: 0.03293833136558533\n",
      "Iterations: 150 Loss: 0.048714496195316315\n"
     ]
    }
   ],
   "source": [
    "batch_size = 25\n",
    "iterations = 200\n",
    "\n",
    "\n",
    "#make new data for hybrid model\n",
    "def new_data(batch_size, X, Y):\n",
    "    X1_new, X2_new, Y_new = [], [], []\n",
    "    for i in range(batch_size):\n",
    "        n, m = np.random.randint(len(X)), np.random.randint(len(X))\n",
    "        X1_new.append(X[n])\n",
    "        X2_new.append(X[m])\n",
    "        if Y[n] == Y[m]:\n",
    "            Y_new.append(1)\n",
    "        else:\n",
    "            Y_new.append(0)\n",
    "    X1_new, X2_new, Y_new = torch.tensor(X1_new).to(torch.float32), torch.tensor(X2_new).to(torch.float32), torch.tensor(Y_new).to(torch.float32)\n",
    "    return X1_new, X2_new, Y_new\n",
    "\n",
    "\n",
    "model = Model_HS()\n",
    "model.train()\n",
    "\n",
    "loss_fn = torch.nn.MSELoss()\n",
    "opt = torch.optim.SGD(model.parameters(), lr=0.01)\n",
    "for it in range(iterations):\n",
    "    X1_batch, X2_batch, Y_batch = new_data(batch_size, X_train, Y_train)\n",
    "    pred = model(X1_batch, X2_batch)\n",
    "    loss = loss_fn(pred, Y_batch)\n",
    "\n",
    "    opt.zero_grad()\n",
    "    loss.backward()\n",
    "    opt.step()\n",
    "\n",
    "    if it % 50 == 0:\n",
    "        print(f\"Iterations: {it} Loss: {loss.item()}\")\n",
    "\n",
    "    \n",
    "torch.save(model.state_dict(), \"model.pt\")"
   ]
  },
  {
   "cell_type": "markdown",
   "id": "7c60cc7f-c48a-42ab-a72c-91bd651f595e",
   "metadata": {},
   "source": [
    "### Train QCNN with and without NQE-DQC1"
   ]
  },
  {
   "cell_type": "code",
   "execution_count": 5,
   "id": "49f6720d-c2e6-4673-9aeb-020a038cd1a9",
   "metadata": {},
   "outputs": [
    {
     "name": "stderr",
     "output_type": "stream",
     "text": [
      "/Users/tak/anaconda3/envs/new/lib/python3.10/site-packages/autograd/numpy/numpy_vjps.py:943: ComplexWarning: Casting complex values to real discards the imaginary part\n",
      "  onp.add.at(A, idx, x)\n"
     ]
    },
    {
     "name": "stdout",
     "output_type": "stream",
     "text": [
      "iteration:  0  cost:  0.47305071882302285\n",
      "iteration:  50  cost:  0.4285454994628626\n",
      "iteration:  0  cost:  0.4905605640588162\n",
      "iteration:  50  cost:  0.34384188182799086\n"
     ]
    }
   ],
   "source": [
    "Y_train = [-1 if y == 0 else 1 for y in Y_train]\n",
    "Y_test = [-1 if y == 0 else 1 for y in Y_test]\n",
    "\n",
    "class x_transform(torch.nn.Module):\n",
    "    def __init__(self):\n",
    "        super().__init__()\n",
    "        self.linear_relu_stack1 = nn.Sequential(\n",
    "            nn.Linear(4, 8),\n",
    "            nn.ReLU(),\n",
    "            nn.Linear(8, 8),\n",
    "            nn.ReLU(),\n",
    "            nn.Linear(8, 4)\n",
    "        )\n",
    "        \n",
    "    def forward(self, x):\n",
    "        x = self.linear_relu_stack1(x)\n",
    "        return x.detach().numpy()\n",
    "\n",
    "model_transform = x_transform()\n",
    "model_transform.load_state_dict(torch.load(\"model.pt\"))\n",
    "\n",
    "def statepreparation(x, NQE):\n",
    "    if NQE:\n",
    "        x = model_transform(torch.tensor(x))\n",
    "    QuantumEmbedding(x)\n",
    "\n",
    "def U_SU4(params, wires): # 15 params\n",
    "    qml.U3(params[0], params[1], params[2], wires=wires[0])\n",
    "    qml.U3(params[3], params[4], params[5], wires=wires[1])\n",
    "    qml.CNOT(wires=[wires[0], wires[1]])\n",
    "    qml.RY(params[6], wires=wires[0])\n",
    "    qml.RZ(params[7], wires=wires[1])\n",
    "    qml.CNOT(wires=[wires[1], wires[0]])\n",
    "    qml.RY(params[8], wires=wires[0])\n",
    "    qml.CNOT(wires=[wires[0], wires[1]])\n",
    "    qml.U3(params[9], params[10], params[11], wires=wires[0])\n",
    "    qml.U3(params[12], params[13], params[14], wires=wires[1])\n",
    "    \n",
    "def QCNN(params):    \n",
    "    param1 = params[0:15]\n",
    "    param2 = params[15:30]\n",
    "    \n",
    "    U_SU4(param1, wires=[0, 1])\n",
    "    U_SU4(param1, wires=[2, 3])\n",
    "    U_SU4(param1, wires=[1, 2])\n",
    "    U_SU4(param1, wires=[3, 0])\n",
    "    U_SU4(param2, wires=[0, 2])\n",
    "    \n",
    "\n",
    "@qml.qnode(dev)\n",
    "def QCNN_classifier(params, x, NQE):\n",
    "    statepreparation(x, NQE)\n",
    "    QCNN(params)\n",
    "    return qml.expval(qml.PauliZ(2))\n",
    "\n",
    "steps = 100\n",
    "learning_rate = 0.01\n",
    "batch_size = 25\n",
    "\n",
    "def Linear_Loss(labels, predictions):\n",
    "    loss = 0\n",
    "    for l,p in zip(labels, predictions):\n",
    "        loss += 0.5 * (1 - l * p)\n",
    "    return loss / len(labels)\n",
    "\n",
    "def cost(weights, X_batch, Y_batch, Trained):\n",
    "    preds = [QCNN_classifier(weights, x, Trained) for x in X_batch]\n",
    "    return Linear_Loss(Y_batch, preds)\n",
    "\n",
    "\n",
    "def circuit_training(X_train, Y_train, Trained):\n",
    "    weights = np.random.random(30, requires_grad = True)\n",
    "    opt = qml.NesterovMomentumOptimizer(stepsize=learning_rate)\n",
    "    loss_history = []\n",
    "    for it in range(steps):\n",
    "        batch_index = np.random.randint(0, len(X_train), (batch_size,))\n",
    "        X_batch = [X_train[i] for i in batch_index]\n",
    "        Y_batch = [Y_train[i] for i in batch_index]\n",
    "        weights, cost_new = opt.step_and_cost(lambda v: cost(v, X_batch, Y_batch, Trained),\n",
    "                                                     weights)\n",
    "        loss_history.append(cost_new)\n",
    "        if it % 50 == 0:\n",
    "            print(\"iteration: \", it, \" cost: \", cost_new)\n",
    "    return loss_history, weights\n",
    "\n",
    "loss_history_without_NQE, weight_without_NQE = circuit_training(X_train, Y_train, Trained=False)\n",
    "loss_history_with_NQE, weight_with_NQE = circuit_training(X_train, Y_train, Trained=True)"
   ]
  },
  {
   "cell_type": "code",
   "execution_count": 6,
   "id": "7ca93f38-2f3b-4586-b5b5-a8e794422a46",
   "metadata": {},
   "outputs": [
    {
     "data": {
      "text/plain": [
       "<matplotlib.legend.Legend at 0x32923d810>"
      ]
     },
     "execution_count": 6,
     "metadata": {},
     "output_type": "execute_result"
    },
    {
     "data": {
      "image/png": "[encoded data removed]",
      "text/plain": [
       "<Figure size 1000x500 with 1 Axes>"
      ]
     },
     "metadata": {},
     "output_type": "display_data"
    }
   ],
   "source": [
    "import seaborn as sns\n",
    "import matplotlib.pyplot as plt\n",
    "\n",
    "plt.rcParams['figure.figsize'] = [10, 5]\n",
    "fig, ax = plt.subplots()\n",
    "clrs = sns.color_palette(\"husl\", 2)\n",
    "with sns.axes_style(\"darkgrid\"):\n",
    "    ax.plot(range(len(loss_history_without_NQE)), loss_history_without_NQE, label=\"Without NQE\", c=clrs[0])\n",
    "    ax.plot(range(len(loss_history_with_NQE)), loss_history_with_NQE, label=\"With NQE\", c=clrs[1])\n",
    "\n",
    "ax.set_xlabel(\"Iteration\")\n",
    "ax.set_ylabel(\"Loss\")\n",
    "ax.set_title(\"QCNN Loss Histories\")\n",
    "ax.legend()"
   ]
  },
  {
   "cell_type": "code",
   "execution_count": 7,
   "id": "2a944c15-8f25-47a1-8d4c-0e2a5924e881",
   "metadata": {},
   "outputs": [
    {
     "name": "stdout",
     "output_type": "stream",
     "text": [
      "Accuracy without NQE: 61.000\n",
      "Accuracy with NQE: 98.000\n"
     ]
    }
   ],
   "source": [
    "def accuracy_test(predictions, labels):\n",
    "    acc = 0\n",
    "    for l, p in zip(labels, predictions):\n",
    "        if np.abs(l - p) < 1:\n",
    "            acc = acc + 1\n",
    "    return acc / len(labels)\n",
    "\n",
    "\n",
    "accuracies_without_NQE, accuracies_with_NQE = [], []\n",
    "\n",
    "prediction_without_NQE = [QCNN_classifier(weight_without_NQE, x, NQE=False) for x in X_test]\n",
    "prediction_with_NQE = [QCNN_classifier(weight_with_NQE, x, NQE=True) for x in X_test]\n",
    "\n",
    "accuracy_without_NQE = accuracy_test(prediction_without_NQE, Y_test) * 100\n",
    "accuracy_with_NQE = accuracy_test(prediction_with_NQE, Y_test) * 100\n",
    "\n",
    "print(f\"Accuracy without NQE: {accuracy_without_NQE:.3f}\")\n",
    "print(f\"Accuracy with NQE: {accuracy_with_NQE:.3f}\")"
   ]
  },
  {
   "cell_type": "markdown",
   "id": "7f6d5e09-c6aa-423d-a384-5f5ef228a106",
   "metadata": {},
   "source": [
    "As expected, NQE-DQC1 effectively optimizes the quantum embedding and improve the classification performance!"
   ]
  },
  {
   "cell_type": "markdown",
   "id": "3b042b0e-1081-4886-9be7-2b55c11f0883",
   "metadata": {},
   "source": [
    "### References"
   ]
  },
  {
   "cell_type": "markdown",
   "id": "5aee1172-adc0-4fbe-a2e0-2bfbd18b86df",
   "metadata": {},
   "source": [
    "1. Tak Hur, Israel F. Araujo, Daniel K. Park. *Neural Quantum Embedding: Pushing the Limits of Quantum Supervised Learning*. Physical Review A (2024).\n",
    "2. Hongfeng Liu, Tak Hur, Shitao Zhang. *Neural quantum embedding via deterministic quantum computation with one qubit*. arXiv.2501.15359"
   ]
  },
  {
   "cell_type": "markdown",
   "id": "0609d972-7996-4a79-b18a-0cd4fed418ba",
   "metadata": {},
   "source": [
    "### Citation"
   ]
  },
  {
   "cell_type": "markdown",
   "id": "39726483-e6ba-4868-8553-edfa0546b455",
   "metadata": {},
   "source": [
    "If you use this code in your research, please cite our paper:\n",
    "```\n",
    "@article{liu2025neural,\n",
    "  title={Neural quantum embedding via deterministic quantum computation with one qubit},\n",
    "  author={Liu, Hongfeng and Hur, Tak and Zhang, Shitao and Che, Liangyu and Long, Xinyue and Wang, Xiangyu and Huang, Keyi and Fan, Yu-ang and Zheng, Yuxuan and Feng, Yufang and others},\n",
    "  journal={arXiv preprint arXiv:2501.15359},\n",
    "  year={2025}\n",
    "}\n",
    "```"
   ]
  },
  {
   "cell_type": "code",
   "execution_count": null,
   "id": "dc1f0848-051e-4c18-9d13-a7cbd9e8a9f8",
   "metadata": {},
   "outputs": [],
   "source": []
  }
 ],
 "metadata": {
  "kernelspec": {
   "display_name": "Python 3 (ipykernel)",
   "language": "python",
   "name": "python3"
  },
  "language_info": {
   "codemirror_mode": {
    "name": "ipython",
    "version": 3
   },
   "file_extension": ".py",
   "mimetype": "text/x-python",
   "name": "python",
   "nbconvert_exporter": "python",
   "pygments_lexer": "ipython3",
   "version": "3.10.0"
  }
 },
 "nbformat": 4,
 "nbformat_minor": 5
}
