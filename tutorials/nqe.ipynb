{
 "cells": [
  {
   "cell_type": "markdown",
   "id": "de7854e2-9f79-46a5-a470-54218543f45c",
   "metadata": {},
   "source": [
    "## Neural Quantum Embedding"
   ]
  },
  {
   "cell_type": "markdown",
   "id": "93883a5c-06d9-4ac6-a4e0-414cf0a559cb",
   "metadata": {},
   "source": [
    "For quantum machine learning (QML) with classical data, we must initially map classical data into a quantum state. In this [paper[1]](https://arxiv.org/abs/2311.11412), we show the importance of quantum embedding and emphasizes the necessity of trainable data-dependent quantum embedding. We present Neural Quantum Embedding (NQE), which utilizes classical neural network to efficiently optimize quantum embeddign for given datasets. This is the introductory tutorial, the full code and experimental results can be found in this [Github repository](https://github.com/takh04/neural-quantum-embedding).\n",
    "\n",
    "*Following tutorial was tested under environment:*\n",
    "```\n",
    "python==3.10\n",
    "pennylane==0.30.0\n",
    "torch==2.7.1\n",
    "tensorflow==2.19.0\n",
    "scikit-learn==1.7.0\n",
    "seaborn==0.13.2\n",
    "```\n"
   ]
  },
  {
   "cell_type": "markdown",
   "id": "4d7967ac-59f6-4a32-a448-2059ed6cc778",
   "metadata": {},
   "source": [
    "### 0.Data loading and preprocessing"
   ]
  },
  {
   "cell_type": "markdown",
   "id": "60f23858-cf4c-40ec-b865-cec5835dc4c3",
   "metadata": {},
   "source": [
    "For this problem, we will use MNIST image datasets. Additionally, we will use Principle Component Analysis (PCA) to reduce the dimension of the data."
   ]
  },
  {
   "cell_type": "code",
   "execution_count": 1,
   "id": "e4e58164-c663-4858-97b0-bdf973848f55",
   "metadata": {},
   "outputs": [],
   "source": [
    "import pennylane as qml\n",
    "from pennylane import numpy as np\n",
    "import torch\n",
    "from torch import nn\n",
    "from sklearn.decomposition import PCA\n",
    "import tensorflow as tf\n",
    "\n",
    "np.random.seed(42)\n",
    "torch.manual_seed(42)\n",
    "def data_load_and_process():\n",
    "    (x_train, y_train), (x_test, y_test) = tf.keras.datasets.mnist.load_data()\n",
    "    x_train, x_test = x_train[..., np.newaxis] / 255.0, x_test[..., np.newaxis] / 255.0\n",
    "    train_filter_tf = np.where((y_train == 0 ) | (y_train == 1 ))\n",
    "    test_filter_tf = np.where((y_test == 0 ) | (y_test == 1 ))\n",
    " \n",
    "    x_train, y_train = x_train[train_filter_tf], y_train[train_filter_tf]\n",
    "    x_test, y_test = x_test[test_filter_tf], y_test[test_filter_tf]\n",
    "\n",
    "    x_train = tf.image.resize(x_train[:], (256, 1)).numpy()\n",
    "    x_test = tf.image.resize(x_test[:], (256, 1)).numpy()\n",
    "    x_train, x_test = tf.squeeze(x_train).numpy(), tf.squeeze(x_test).numpy()\n",
    "        \n",
    "    X_train = PCA(4).fit_transform(x_train)\n",
    "    X_test = PCA(4).fit_transform(x_test)\n",
    "    x_train, x_test = [], []\n",
    "    for x in X_train:\n",
    "        x = (x - x.min()) * (np.pi / (x.max() - x.min()))\n",
    "        x_train.append(x)\n",
    "    for x in X_test:\n",
    "        x = (x - x.min()) * (np.pi / (x.max() - x.min()))\n",
    "        x_test.append(x)\n",
    "    return x_train, x_test, y_train, y_test\n",
    "\n",
    "#load data\n",
    "X_train, X_test, Y_train, Y_test = data_load_and_process()\n",
    "X_train, X_test, Y_train, Y_test = X_train[0:400], X_test[0:100], Y_train[0:400], Y_test[0:100]"
   ]
  },
  {
   "cell_type": "markdown",
   "id": "0d079fba-57e7-436e-b0bf-60f52ae26cfe",
   "metadata": {},
   "source": [
    "### 1. Neural Quantum Embedding"
   ]
  },
  {
   "cell_type": "markdown",
   "id": "5d716356-ed0d-4a31-88b4-4f4a85c864b7",
   "metadata": {},
   "source": [
    "NQE utilizes trainable classical neural networks along with a quantum embedding circuit. The goal of NQE is find the optimal embedding that maximizes the trace distance between two data ensembles. Training the NQE with trace distance directly as a cost function is ideal, but calculating the trace distance is expensive even with the quantum computer. Here, we will use implicit loss function, inspired by fidelity overlap between two data class."
   ]
  },
  {
   "cell_type": "markdown",
   "id": "4a4c3ac0-4099-4f89-93e2-59286d10bc0b",
   "metadata": {},
   "source": [
    "![Alt text for the image](nqe.png)"
   ]
  },
  {
   "cell_type": "markdown",
   "id": "c4b19d3b-1a4e-4bae-ab55-232af2ea7db6",
   "metadata": {},
   "source": [
    "Although NQE scheme can be applied on general quantum embedding, we will focus on IQP type embedding introduced by [Havlicek et al.[2]](https://arxiv.org/abs/1804.11326). This is a widely used quantum embedding scheme for QML due to its classical intractability. First, we define a IQP type quantum embedding."
   ]
  },
  {
   "cell_type": "code",
   "execution_count": 2,
   "id": "169a2083-f730-40c9-8b20-627538f29698",
   "metadata": {},
   "outputs": [],
   "source": [
    "N_layers = 3\n",
    "# exp(ixZ) gate\n",
    "def exp_Z(x, wires):\n",
    "    qml.RZ(-2 * x, wires=wires)\n",
    "\n",
    "# exp(i(pi - x1)(pi - x2)ZZ) gate\n",
    "def exp_ZZ(x1, x2, wires):\n",
    "    qml.CNOT(wires=wires)\n",
    "    qml.RZ(-2 * (np.pi - x1) * (np.pi - x2), wires=wires[1])\n",
    "    qml.CNOT(wires=wires)\n",
    "\n",
    "def QuantumEmbedding(input):\n",
    "    for i in range(N_layers):\n",
    "        for j in range(4):\n",
    "            qml.Hadamard(wires=j)\n",
    "            exp_Z(input[j], wires=j)\n",
    "        for k in range(3):\n",
    "            exp_ZZ(input[k], input[k+1], wires=[k,k+1])\n",
    "        exp_ZZ(input[3], input[0], wires=[3, 0])"
   ]
  },
  {
   "cell_type": "markdown",
   "id": "6ae660b9-fef9-46a9-86aa-78416183be81",
   "metadata": {},
   "source": [
    "For NQE, we construct a hybrid circuit by concatenating fully classical neural network with quantum embedding circuit. Then, we construct a quantum circuit that measures the fidleity overlap between two embedded quantum states."
   ]
  },
  {
   "cell_type": "code",
   "execution_count": 3,
   "id": "9a7e26d4-18a4-44a9-bd23-957b958e19c2",
   "metadata": {},
   "outputs": [],
   "source": [
    "dev = qml.device('default.qubit', wires=4)\n",
    "@qml.qnode(dev, interface=\"torch\")\n",
    "def circuit(inputs): \n",
    "    QuantumEmbedding(inputs[0:4])\n",
    "    qml.adjoint(QuantumEmbedding)(inputs[4:8])\n",
    "    return qml.probs(wires=range(4))\n",
    "\n",
    "class Model_Fidelity(torch.nn.Module):\n",
    "    def __init__(self):\n",
    "        super().__init__()\n",
    "        self.qlayer1 = qml.qnn.TorchLayer(circuit, weight_shapes={})\n",
    "        self.linear_relu_stack1 = nn.Sequential(\n",
    "            nn.Linear(4, 8),\n",
    "            nn.ReLU(),\n",
    "            nn.Linear(8,8),\n",
    "            nn.ReLU(),\n",
    "            nn.Linear(8,4)\n",
    "        )\n",
    "    def forward(self, x1, x2):\n",
    "        x1 = self.linear_relu_stack1(x1)\n",
    "        x2 = self.linear_relu_stack1(x2)\n",
    "        x = torch.concat([x1, x2], 1)\n",
    "        x = self.qlayer1(x)\n",
    "        return x[:,0]"
   ]
  },
  {
   "cell_type": "markdown",
   "id": "e02facc6-822e-47c6-a48a-014391ecce29",
   "metadata": {},
   "source": [
    "### 2. Optimize NQE"
   ]
  },
  {
   "cell_type": "markdown",
   "id": "11acbd44-81c6-4c66-b857-ac5434a0740c",
   "metadata": {},
   "source": [
    "Now we optimize the quantum embedding by training the classical neural network part of NQE. We will train for 200 iterations with batch size of 25."
   ]
  },
  {
   "cell_type": "code",
   "execution_count": 4,
   "id": "5b78c689-c2da-41d6-aeb4-232717356ea1",
   "metadata": {},
   "outputs": [
    {
     "name": "stderr",
     "output_type": "stream",
     "text": [
      "/var/folders/s2/t3n82l2s329dh9dttmtv7vr00000gn/T/ipykernel_19536/422545311.py:16: UserWarning: Creating a tensor from a list of numpy.ndarrays is extremely slow. Please consider converting the list to a single numpy.ndarray with numpy.array() before converting to a tensor. (Triggered internally at /Users/runner/work/pytorch/pytorch/pytorch/torch/csrc/utils/tensor_new.cpp:257.)\n",
      "  X1_new, X2_new, Y_new = torch.tensor(X1_new).to(torch.float32), torch.tensor(X2_new).to(torch.float32), torch.tensor(Y_new).to(torch.float32)\n"
     ]
    },
    {
     "name": "stdout",
     "output_type": "stream",
     "text": [
      "Iterations: 0 Loss: 0.28621241450309753\n",
      "Iterations: 50 Loss: 0.09293991327285767\n",
      "Iterations: 100 Loss: 0.04241776466369629\n",
      "Iterations: 150 Loss: 0.06826834380626678\n"
     ]
    }
   ],
   "source": [
    "batch_size = 25\n",
    "iterations = 200\n",
    "\n",
    "\n",
    "#make new data for hybrid model\n",
    "def new_data(batch_size, X, Y):\n",
    "    X1_new, X2_new, Y_new = [], [], []\n",
    "    for i in range(batch_size):\n",
    "        n, m = np.random.randint(len(X)), np.random.randint(len(X))\n",
    "        X1_new.append(X[n])\n",
    "        X2_new.append(X[m])\n",
    "        if Y[n] == Y[m]:\n",
    "            Y_new.append(1)\n",
    "        else:\n",
    "            Y_new.append(0)\n",
    "    X1_new, X2_new, Y_new = torch.tensor(X1_new).to(torch.float32), torch.tensor(X2_new).to(torch.float32), torch.tensor(Y_new).to(torch.float32)\n",
    "    return X1_new, X2_new, Y_new\n",
    "\n",
    "\n",
    "model = Model_Fidelity()\n",
    "model.train()\n",
    "\n",
    "loss_fn = torch.nn.MSELoss()\n",
    "opt = torch.optim.SGD(model.parameters(), lr=0.01)\n",
    "for it in range(iterations):\n",
    "    X1_batch, X2_batch, Y_batch = new_data(batch_size, X_train, Y_train)\n",
    "    pred = model(X1_batch, X2_batch)\n",
    "    loss = loss_fn(pred, Y_batch)\n",
    "\n",
    "    opt.zero_grad()\n",
    "    loss.backward()\n",
    "    opt.step()\n",
    "\n",
    "    if it % 50 == 0:\n",
    "        print(f\"Iterations: {it} Loss: {loss.item()}\")\n",
    "\n",
    "    \n",
    "torch.save(model.state_dict(), \"model.pt\")\n"
   ]
  },
  {
   "cell_type": "markdown",
   "id": "998e6d47-921d-4ac7-b9e7-b0666548e1f9",
   "metadata": {},
   "source": [
    "### 3. Effectiveness of NQE in QML"
   ]
  },
  {
   "cell_type": "markdown",
   "id": "bcc4c478-5bbd-4aa0-933a-b699742e2810",
   "metadata": {},
   "source": [
    "Let's assess the effectiveness of optimized quantum embedding in QML. Here, we will use [quantum convolutional neural networks (QCNN)[3]](https://arxiv.org/abs/2108.00661). For more information about QCNN, have a look at [this tutorial](https://takh04.github.io/QCNN_tutorial.html)."
   ]
  },
  {
   "cell_type": "code",
   "execution_count": 5,
   "id": "c9a41fff-4eab-43ba-9ff3-3f279ba0802b",
   "metadata": {},
   "outputs": [],
   "source": [
    "Y_train = [-1 if y == 0 else 1 for y in Y_train]\n",
    "Y_test = [-1 if y == 0 else 1 for y in Y_test]"
   ]
  },
  {
   "cell_type": "code",
   "execution_count": 6,
   "id": "af471694-a695-4a7b-b35e-3c415a9978e6",
   "metadata": {},
   "outputs": [
    {
     "data": {
      "text/plain": [
       "<All keys matched successfully>"
      ]
     },
     "execution_count": 6,
     "metadata": {},
     "output_type": "execute_result"
    }
   ],
   "source": [
    "class x_transform(torch.nn.Module):\n",
    "    def __init__(self):\n",
    "        super().__init__()\n",
    "        self.linear_relu_stack1 = nn.Sequential(\n",
    "            nn.Linear(4, 8),\n",
    "            nn.ReLU(),\n",
    "            nn.Linear(8, 8),\n",
    "            nn.ReLU(),\n",
    "            nn.Linear(8, 4)\n",
    "        )\n",
    "    def forward(self, x):\n",
    "        x = self.linear_relu_stack1(x)\n",
    "        return x.detach().numpy()\n",
    "\n",
    "model_transform = x_transform()\n",
    "model_transform.load_state_dict(torch.load(\"model.pt\"))"
   ]
  },
  {
   "cell_type": "markdown",
   "id": "3fa6d0d0-4778-4a8a-9763-7cc5669d6c01",
   "metadata": {},
   "source": [
    "Define a QCNN model with SU4 ansatz. We will compare IQP embedding to IQP embedding with NQE."
   ]
  },
  {
   "cell_type": "code",
   "execution_count": 7,
   "id": "90a49cb9-e169-4678-8eef-e388ba434826",
   "metadata": {},
   "outputs": [],
   "source": [
    "def statepreparation(x, NQE):\n",
    "    if NQE:\n",
    "        x = model_transform(torch.tensor(x))\n",
    "    QuantumEmbedding(x)\n",
    "\n",
    "def U_SU4(params, wires): # 15 params\n",
    "    qml.U3(params[0], params[1], params[2], wires=wires[0])\n",
    "    qml.U3(params[3], params[4], params[5], wires=wires[1])\n",
    "    qml.CNOT(wires=[wires[0], wires[1]])\n",
    "    qml.RY(params[6], wires=wires[0])\n",
    "    qml.RZ(params[7], wires=wires[1])\n",
    "    qml.CNOT(wires=[wires[1], wires[0]])\n",
    "    qml.RY(params[8], wires=wires[0])\n",
    "    qml.CNOT(wires=[wires[0], wires[1]])\n",
    "    qml.U3(params[9], params[10], params[11], wires=wires[0])\n",
    "    qml.U3(params[12], params[13], params[14], wires=wires[1])\n",
    "    \n",
    "def QCNN(params):    \n",
    "    param1 = params[0:15]\n",
    "    param2 = params[15:30]\n",
    "    \n",
    "    U_SU4(param1, wires=[0, 1])\n",
    "    U_SU4(param1, wires=[2, 3])\n",
    "    U_SU4(param1, wires=[1, 2])\n",
    "    U_SU4(param1, wires=[3, 0])\n",
    "    U_SU4(param2, wires=[0, 2])\n",
    "    \n",
    "\n",
    "@qml.qnode(dev)\n",
    "def QCNN_classifier(params, x, NQE):\n",
    "    statepreparation(x, NQE)\n",
    "    QCNN(params)\n",
    "    return qml.expval(qml.PauliZ(2))"
   ]
  },
  {
   "cell_type": "markdown",
   "id": "1bf355f6-d047-4c5b-91e5-834842530988",
   "metadata": {},
   "source": [
    "Train QCNN for 100 iterations with learning rate 0.01 and batch size 25 using linear loss function."
   ]
  },
  {
   "cell_type": "code",
   "execution_count": 8,
   "id": "534c2dbf-7d43-4de1-842c-29d49c17a568",
   "metadata": {},
   "outputs": [],
   "source": [
    "steps = 100\n",
    "learning_rate = 0.01\n",
    "batch_size = 25\n",
    "\n",
    "def Linear_Loss(labels, predictions):\n",
    "    loss = 0\n",
    "    for l,p in zip(labels, predictions):\n",
    "        loss += 0.5 * (1 - l * p)\n",
    "    return loss / len(labels)\n",
    "\n",
    "def cost(weights, X_batch, Y_batch, Trained):\n",
    "    preds = [QCNN_classifier(weights, x, Trained) for x in X_batch]\n",
    "    return Linear_Loss(Y_batch, preds)\n",
    "\n",
    "\n",
    "def circuit_training(X_train, Y_train, Trained):\n",
    "    weights = np.random.random(30, requires_grad = True)\n",
    "    opt = qml.NesterovMomentumOptimizer(stepsize=learning_rate)\n",
    "    loss_history = []\n",
    "    for it in range(steps):\n",
    "        batch_index = np.random.randint(0, len(X_train), (batch_size,))\n",
    "        X_batch = [X_train[i] for i in batch_index]\n",
    "        Y_batch = [Y_train[i] for i in batch_index]\n",
    "        weights, cost_new = opt.step_and_cost(lambda v: cost(v, X_batch, Y_batch, Trained),\n",
    "                                                     weights)\n",
    "        loss_history.append(cost_new)\n",
    "        if it % 50 == 0:\n",
    "            print(\"iteration: \", it, \" cost: \", cost_new)\n",
    "    return loss_history, weights"
   ]
  },
  {
   "cell_type": "markdown",
   "id": "1753d9bc-c15f-4cab-b9aa-7a7a45f483e8",
   "metadata": {},
   "source": [
    "Compare training with and without NQE."
   ]
  },
  {
   "cell_type": "code",
   "execution_count": 9,
   "id": "577cef9a-9e35-4447-a979-b0add77a54c0",
   "metadata": {},
   "outputs": [
    {
     "name": "stderr",
     "output_type": "stream",
     "text": [
      "/Users/tak/anaconda3/envs/new/lib/python3.10/site-packages/autograd/numpy/numpy_vjps.py:943: ComplexWarning: Casting complex values to real discards the imaginary part\n",
      "  onp.add.at(A, idx, x)\n"
     ]
    },
    {
     "name": "stdout",
     "output_type": "stream",
     "text": [
      "iteration:  0  cost:  0.47305071882302285\n",
      "iteration:  50  cost:  0.4285454994628626\n",
      "iteration:  0  cost:  0.613197452123183\n",
      "iteration:  50  cost:  0.3265755233817129\n"
     ]
    }
   ],
   "source": [
    "loss_history_without_NQE, weight_without_NQE = circuit_training(X_train, Y_train, Trained=False)\n",
    "loss_history_with_NQE, weight_with_NQE = circuit_training(X_train, Y_train, Trained=True)"
   ]
  },
  {
   "cell_type": "code",
   "execution_count": 10,
   "id": "10c35efb-3cf2-4f7a-ab66-b51a318e268b",
   "metadata": {},
   "outputs": [
    {
     "data": {
      "text/plain": [
       "<matplotlib.legend.Legend at 0x3226cd030>"
      ]
     },
     "execution_count": 10,
     "metadata": {},
     "output_type": "execute_result"
    },
    {
     "data": {
      "image/png": "[encoded data removed]",
      "text/plain": [
       "<Figure size 1000x500 with 1 Axes>"
      ]
     },
     "metadata": {},
     "output_type": "display_data"
    }
   ],
   "source": [
    "import seaborn as sns\n",
    "import matplotlib.pyplot as plt\n",
    "\n",
    "plt.rcParams['figure.figsize'] = [10, 5]\n",
    "fig, ax = plt.subplots()\n",
    "clrs = sns.color_palette(\"husl\", 2)\n",
    "with sns.axes_style(\"darkgrid\"):\n",
    "    ax.plot(range(len(loss_history_without_NQE)), loss_history_without_NQE, label=\"Without NQE\", c=clrs[0])\n",
    "    ax.plot(range(len(loss_history_with_NQE)), loss_history_with_NQE, label=\"With NQE\", c=clrs[1])\n",
    "\n",
    "ax.set_xlabel(\"Iteration\")\n",
    "ax.set_ylabel(\"Loss\")\n",
    "ax.set_title(\"QCNN Loss Histories\")\n",
    "ax.legend()"
   ]
  },
  {
   "cell_type": "markdown",
   "id": "e914ed83-dcaa-42d1-9c46-c20909abee87",
   "metadata": {},
   "source": [
    "We can see that the loss history is much lower when NQE is employed. Now let's see how well QCNN can classify the MNIST image data."
   ]
  },
  {
   "cell_type": "code",
   "execution_count": 11,
   "id": "6b3d9382-b7dd-413a-a75d-e5c90c31bfc6",
   "metadata": {},
   "outputs": [],
   "source": [
    "def accuracy_test(predictions, labels):\n",
    "    acc = 0\n",
    "    for l, p in zip(labels, predictions):\n",
    "        if np.abs(l - p) < 1:\n",
    "            acc = acc + 1\n",
    "    return acc / len(labels)\n",
    "\n",
    "\n",
    "accuracies_without_NQE, accuracies_with_NQE = [], []\n",
    "\n",
    "prediction_without_NQE = [QCNN_classifier(weight_without_NQE, x, NQE=False) for x in X_test]\n",
    "prediction_with_NQE = [QCNN_classifier(weight_with_NQE, x, NQE=True) for x in X_test]\n",
    "\n",
    "accuracy_without_NQE = accuracy_test(prediction_without_NQE, Y_test) * 100\n",
    "accuracy_with_NQE = accuracy_test(prediction_with_NQE, Y_test) * 100"
   ]
  },
  {
   "cell_type": "code",
   "execution_count": 12,
   "id": "e7e04747-da90-419f-8abc-2923a64326e9",
   "metadata": {},
   "outputs": [
    {
     "name": "stdout",
     "output_type": "stream",
     "text": [
      "Accuracy without NQE: 61.000\n",
      "Accuracy with NQE: 98.000\n"
     ]
    }
   ],
   "source": [
    "print(f\"Accuracy without NQE: {accuracy_without_NQE:.3f}\")\n",
    "print(f\"Accuracy with NQE: {accuracy_with_NQE:.3f}\")"
   ]
  },
  {
   "cell_type": "markdown",
   "id": "27c279de-7c57-400a-9e54-6a35c9c107c5",
   "metadata": {},
   "source": [
    "Classification accuracy with NQE is significantly larger than the classification accuracy without NQE! If you want to how NQE affects training loss lower bound, trainability, generalization performance of QML models have a look at the original paper and the code!"
   ]
  },
  {
   "cell_type": "markdown",
   "id": "554e650d-e370-437e-9e07-677cad1dc6f7",
   "metadata": {},
   "source": [
    "### References"
   ]
  },
  {
   "cell_type": "markdown",
   "id": "50abb0b5-48ba-4e90-b581-effe707468e3",
   "metadata": {},
   "source": [
    "1. Tak Hur, Israel F. Araujo, Daniel K. Park. *Neural Quantum Embedding: Pushing the Limits of Quantum Supervised Learning*. Physical Review A (2024).\n",
    "\n",
    "2. Vojtech Havlicek, Antonio D. C ́orcoles, Kristan Temme, Aram W. Harrow, Abhinav Kandala, Jerry M. Chow, and Jay M. Gambetta. *Supervised learning with quantum-enhanced feature spaces*. Nature (2019)."
   ]
  },
  {
   "cell_type": "markdown",
   "id": "ac659929-cbec-4ae4-ac83-01be9e13a83c",
   "metadata": {},
   "source": [
    "### Citation"
   ]
  },
  {
   "cell_type": "markdown",
   "id": "0d9df21c-ae36-4602-bbbe-792c374cfd43",
   "metadata": {},
   "source": [
    "If you use this code in research, please cite our paper:\n",
    "\n",
    "```\n",
    "@article{hur2024neural,\n",
    "  title={Neural quantum embedding: Pushing the limits of quantum supervised learning},\n",
    "  author={Hur, Tak and Araujo, Israel F and Park, Daniel K},\n",
    "  journal={Physical Review A},\n",
    "  volume={110},\n",
    "  number={2},\n",
    "  pages={022411},\n",
    "  year={2024},\n",
    "  publisher={APS}\n",
    "}\n",
    "```"
   ]
  },
  {
   "cell_type": "code",
   "execution_count": null,
   "id": "faba6298-079e-43cd-bdf2-40c8f8906be5",
   "metadata": {},
   "outputs": [],
   "source": []
  }
 ],
 "metadata": {
  "kernelspec": {
   "display_name": "Python 3 (ipykernel)",
   "language": "python",
   "name": "python3"
  },
  "language_info": {
   "codemirror_mode": {
    "name": "ipython",
    "version": 3
   },
   "file_extension": ".py",
   "mimetype": "text/x-python",
   "name": "python",
   "nbconvert_exporter": "python",
   "pygments_lexer": "ipython3",
   "version": "3.10.0"
  }
 },
 "nbformat": 4,
 "nbformat_minor": 5
}
